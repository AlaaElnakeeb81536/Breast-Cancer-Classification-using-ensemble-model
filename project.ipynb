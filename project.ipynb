{
 "cells": [
  {
   "cell_type": "code",
   "execution_count": null,
   "id": "3c58f361",
   "metadata": {
    "scrolled": true
   },
   "outputs": [
    {
     "name": "stdout",
     "output_type": "stream",
     "text": [
      " * Serving Flask app \"__main__\" (lazy loading)\n",
      " * Environment: production\n",
      "\u001b[31m   WARNING: This is a development server. Do not use it in a production deployment.\u001b[0m\n",
      "\u001b[2m   Use a production WSGI server instead.\u001b[0m\n",
      " * Debug mode: on\n"
     ]
    },
    {
     "name": "stderr",
     "output_type": "stream",
     "text": [
      " * Running on http://127.0.0.1:5000/ (Press CTRL+C to quit)\n",
      "127.0.0.1 - - [20/May/2023 21:59:28] \"GET / HTTP/1.1\" 200 -\n",
      "127.0.0.1 - - [20/May/2023 21:59:57] \"POST /predict HTTP/1.1\" 200 -\n",
      "127.0.0.1 - - [20/May/2023 22:00:21] \"POST /predict HTTP/1.1\" 200 -\n"
     ]
    }
   ],
   "source": [
    "import numpy as np\n",
    "from flask import Flask, request, jsonify, render_template\n",
    "import pickle\n",
    "\n",
    "# Create flask app\n",
    "project = Flask(__name__)\n",
    "model = pickle.load(open(\"logmode.pkl\", \"rb\"))\n",
    "\n",
    "@project.route(\"/\")\n",
    "def Home():\n",
    "    return render_template(\"index2.html\")\n",
    "\n",
    "@project.route(\"/predict\", methods=[\"POST\"])\n",
    "def predict():\n",
    "    float_features = [float(x) for x in list(request.form.values())]\n",
    "    features = [np.array(float_features)]\n",
    "    prediction = model.predict(features)\n",
    "    if prediction == [1] :\n",
    "        prediction_text = 'The person has breast cancer (the disease is malignant)'\n",
    "    else :\n",
    "        prediction_text = 'healthy person (the disease is benign)'\n",
    "    return render_template(\"index2.html\", prediction_text=prediction_text)\n",
    "\n",
    "if __name__ == \"__main__\":\n",
    "    project.run(debug=True ,use_reloader=False)"
   ]
  },
  {
   "cell_type": "code",
   "execution_count": null,
   "id": "c5bbcd62",
   "metadata": {},
   "outputs": [],
   "source": []
  }
 ],
 "metadata": {
  "kernelspec": {
   "display_name": "Python 3 (ipykernel)",
   "language": "python",
   "name": "python3"
  },
  "language_info": {
   "codemirror_mode": {
    "name": "ipython",
    "version": 3
   },
   "file_extension": ".py",
   "mimetype": "text/x-python",
   "name": "python",
   "nbconvert_exporter": "python",
   "pygments_lexer": "ipython3",
   "version": "3.9.7"
  }
 },
 "nbformat": 4,
 "nbformat_minor": 5
}
